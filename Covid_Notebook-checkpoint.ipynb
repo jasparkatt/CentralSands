{
 "cells": [
  {
   "cell_type": "markdown",
   "metadata": {},
   "source": [
    "imports...folium and jenkspy are packages i added to my arcpy virenv. I think the rest(pandas, numpy, json) are part of the arcpy install"
   ]
  },
  {
   "cell_type": "code",
   "execution_count": 15,
   "metadata": {},
   "outputs": [],
   "source": [
    "import pandas as pd\n",
    "import folium\n",
    "import numpy as np\n",
    "import json\n",
    "import jenkspy"
   ]
  },
  {
   "cell_type": "markdown",
   "metadata": {},
   "source": [
    "Grab the data from the Github URL, use pandas to read and set the index (key) column to the 1st col in the csv, which is 'UID'\n",
    "Print the first and last 10 records in the data"
   ]
  },
  {
   "cell_type": "code",
   "execution_count": 2,
   "metadata": {},
   "outputs": [
    {
     "name": "stdout",
     "output_type": "stream",
     "text": [
      "           iso2 iso3  code3    FIPS   Admin2            Province_State  \\\n",
      "UID                                                                      \n",
      "16.0         AS  ASM     16    60.0      NaN            American Samoa   \n",
      "316.0        GU  GUM    316    66.0      NaN                      Guam   \n",
      "580.0        MP  MNP    580    69.0      NaN  Northern Mariana Islands   \n",
      "630.0        PR  PRI    630    72.0      NaN               Puerto Rico   \n",
      "850.0        VI  VIR    850    78.0      NaN            Virgin Islands   \n",
      "84001001.0   US  USA    840  1001.0  Autauga                   Alabama   \n",
      "84001003.0   US  USA    840  1003.0  Baldwin                   Alabama   \n",
      "84001005.0   US  USA    840  1005.0  Barbour                   Alabama   \n",
      "84001007.0   US  USA    840  1007.0     Bibb                   Alabama   \n",
      "84001009.0   US  USA    840  1009.0   Blount                   Alabama   \n",
      "\n",
      "           Country_Region        Lat       Long_  \\\n",
      "UID                                                \n",
      "16.0                   US -14.271000 -170.132000   \n",
      "316.0                  US  13.444300  144.793700   \n",
      "580.0                  US  15.097900  145.673900   \n",
      "630.0                  US  18.220800  -66.590100   \n",
      "850.0                  US  18.335800  -64.896300   \n",
      "84001001.0             US  32.539527  -86.644082   \n",
      "84001003.0             US  30.727750  -87.722071   \n",
      "84001005.0             US  31.868263  -85.387129   \n",
      "84001007.0             US  32.996421  -87.125115   \n",
      "84001009.0             US  33.982109  -86.567906   \n",
      "\n",
      "                            Combined_Key  ...  4/15/20  4/16/20  4/17/20  \\\n",
      "UID                                       ...                              \n",
      "16.0                  American Samoa, US  ...        0        0        0   \n",
      "316.0                           Guam, US  ...      135      135      136   \n",
      "580.0       Northern Mariana Islands, US  ...       13       13       13   \n",
      "630.0                    Puerto Rico, US  ...      974     1043     1068   \n",
      "850.0                 Virgin Islands, US  ...       51       51       51   \n",
      "84001001.0          Autauga, Alabama, US  ...       24       26       26   \n",
      "84001003.0          Baldwin, Alabama, US  ...       91      101      103   \n",
      "84001005.0          Barbour, Alabama, US  ...       12       14       15   \n",
      "84001007.0             Bibb, Alabama, US  ...       18       22       24   \n",
      "84001009.0           Blount, Alabama, US  ...       17       18       20   \n",
      "\n",
      "            4/18/20  4/19/20  4/20/20  4/21/20  4/22/20  4/23/20  4/24/20  \n",
      "UID                                                                        \n",
      "16.0              0        0        0        0        0        0        0  \n",
      "316.0           136      136      136      136      136      139      141  \n",
      "580.0            14       14       14       14       14       14       14  \n",
      "630.0          1118     1213     1252     1298     1252     1416     1276  \n",
      "850.0            53       53       53       53       54       54       54  \n",
      "84001001.0       25       26       28       30       32       33       36  \n",
      "84001003.0      109      112      117      123      132      143      147  \n",
      "84001005.0       18       20       22       28       29       30       32  \n",
      "84001007.0       26       28       32       32       34       33       34  \n",
      "84001009.0       20       21       22       26       29       31       31  \n",
      "\n",
      "[10 rows x 104 columns]\n",
      "           iso2 iso3  code3     FIPS  \\\n",
      "UID                                    \n",
      "84099999.0   US  USA    840  99999.0   \n",
      "84070004.0   US  USA    840      NaN   \n",
      "84070005.0   US  USA    840      NaN   \n",
      "84070015.0   US  USA    840      NaN   \n",
      "84070016.0   US  USA    840      NaN   \n",
      "84070017.0   US  USA    840      NaN   \n",
      "84070018.0   US  USA    840      NaN   \n",
      "84070019.0   US  USA    840      NaN   \n",
      "84070020.0   US  USA    840      NaN   \n",
      "NaN          US  USA    840  90049.0   \n",
      "\n",
      "                                               Admin2  Province_State  \\\n",
      "UID                                                                     \n",
      "84099999.0                                        NaN  Grand Princess   \n",
      "84070004.0  Michigan Department of Corrections (MDOC)        Michigan   \n",
      "84070005.0     Federal Correctional Institution (FCI)        Michigan   \n",
      "84070015.0                                 Bear River            Utah   \n",
      "84070016.0                               Central Utah            Utah   \n",
      "84070017.0                             Southeast Utah            Utah   \n",
      "84070018.0                             Southwest Utah            Utah   \n",
      "84070019.0                                  TriCounty            Utah   \n",
      "84070020.0                               Weber-Morgan            Utah   \n",
      "NaN                                         Southwest            Utah   \n",
      "\n",
      "           Country_Region        Lat       Long_  \\\n",
      "UID                                                \n",
      "84099999.0             US   0.000000    0.000000   \n",
      "84070004.0             US   0.000000    0.000000   \n",
      "84070005.0             US   0.000000    0.000000   \n",
      "84070015.0             US  41.521068 -113.083282   \n",
      "84070016.0             US  39.372319 -111.575868   \n",
      "84070017.0             US  38.996171 -110.701396   \n",
      "84070018.0             US  37.854472 -111.441876   \n",
      "84070019.0             US  40.124915 -109.517442   \n",
      "84070020.0             US  41.271160 -111.914512   \n",
      "NaN                    US        NaN         NaN   \n",
      "\n",
      "                                                 Combined_Key  ...  4/15/20  \\\n",
      "UID                                                            ...            \n",
      "84099999.0                                 Grand Princess, US  ...      103   \n",
      "84070004.0  Michigan Department of Corrections (MDOC), Mic...  ...      472   \n",
      "84070005.0  Federal Correctional Institution (FCI), Michig...  ...       36   \n",
      "84070015.0                               Bear River, Utah, US  ...        0   \n",
      "84070016.0                             Central Utah, Utah, US  ...        0   \n",
      "84070017.0                           Southeast Utah, Utah, US  ...        0   \n",
      "84070018.0                           Southwest Utah, Utah, US  ...        0   \n",
      "84070019.0                                TriCounty, Utah, US  ...        0   \n",
      "84070020.0                             Weber-Morgan, Utah, US  ...        0   \n",
      "NaN                                       Southwest, Utah, US  ...        0   \n",
      "\n",
      "            4/16/20  4/17/20  4/18/20  4/19/20  4/20/20  4/21/20  4/22/20  \\\n",
      "UID                                                                         \n",
      "84099999.0      103      103      103      103      103      103      103   \n",
      "84070004.0      472      514      550      556      561      615      655   \n",
      "84070005.0       36       44       45       51       55       57       57   \n",
      "84070015.0        0        0        0       54       55       55       55   \n",
      "84070016.0        0        0        0       15       17       17       20   \n",
      "84070017.0        0        0        0        6        7        7        7   \n",
      "84070018.0        0        0        0       66       70       70       70   \n",
      "84070019.0        0        0        0       10       10       10        9   \n",
      "84070020.0        0        0        0      119      124      126      130   \n",
      "NaN               0        0        0        0        0        0        0   \n",
      "\n",
      "            4/23/20  4/24/20  \n",
      "UID                           \n",
      "84099999.0      103      103  \n",
      "84070004.0      759      973  \n",
      "84070005.0       66       68  \n",
      "84070015.0       56       59  \n",
      "84070016.0       21       21  \n",
      "84070017.0        7        8  \n",
      "84070018.0       76       81  \n",
      "84070019.0        9        9  \n",
      "84070020.0      136      140  \n",
      "NaN               0        0  \n",
      "\n",
      "[10 rows x 104 columns]\n"
     ]
    }
   ],
   "source": [
    "tables_src = 'https://raw.githubusercontent.com/CSSEGISandData/COVID-19/master/csse_covid_19_data/csse_covid_19_time_series/time_series_covid19_confirmed_US.csv'\n",
    "table = pd.read_csv(tables_src, index_col=0)\n",
    "print(table.head(10))\n",
    "print(table.tail(10))"
   ]
  },
  {
   "cell_type": "markdown",
   "metadata": {},
   "source": [
    "As that is the world wide time series and we only want WI at this point, lets use pandas .loc to slice the data to just WI on the index, or the 'UID' col/value. Note that at the bottom of the cell you always get the dimensions of the array 72x104"
   ]
  },
  {
   "cell_type": "code",
   "execution_count": 3,
   "metadata": {},
   "outputs": [
    {
     "name": "stdout",
     "output_type": "stream",
     "text": [
      "           iso2 iso3  code3     FIPS     Admin2 Province_State Country_Region  \\\n",
      "UID                                                                             \n",
      "84055001.0   US  USA    840  55001.0      Adams      Wisconsin             US   \n",
      "84055003.0   US  USA    840  55003.0    Ashland      Wisconsin             US   \n",
      "84055005.0   US  USA    840  55005.0     Barron      Wisconsin             US   \n",
      "84055007.0   US  USA    840  55007.0   Bayfield      Wisconsin             US   \n",
      "84055009.0   US  USA    840  55009.0      Brown      Wisconsin             US   \n",
      "...         ...  ...    ...      ...        ...            ...            ...   \n",
      "84055133.0   US  USA    840  55133.0   Waukesha      Wisconsin             US   \n",
      "84055135.0   US  USA    840  55135.0    Waupaca      Wisconsin             US   \n",
      "84055137.0   US  USA    840  55137.0   Waushara      Wisconsin             US   \n",
      "84055139.0   US  USA    840  55139.0  Winnebago      Wisconsin             US   \n",
      "84055141.0   US  USA    840  55141.0       Wood      Wisconsin             US   \n",
      "\n",
      "                  Lat      Long_              Combined_Key  ...  4/15/20  \\\n",
      "UID                                                         ...            \n",
      "84055001.0  43.969747 -89.767828      Adams, Wisconsin, US  ...        3   \n",
      "84055003.0  46.319569 -90.678371    Ashland, Wisconsin, US  ...        2   \n",
      "84055005.0  45.423727 -91.848336     Barron, Wisconsin, US  ...        6   \n",
      "84055007.0  46.528688 -91.197167   Bayfield, Wisconsin, US  ...        3   \n",
      "84055009.0  44.452655 -88.004118      Brown, Wisconsin, US  ...      114   \n",
      "...               ...        ...                       ...  ...      ...   \n",
      "84055133.0  43.018331 -88.304312   Waukesha, Wisconsin, US  ...      238   \n",
      "84055135.0  44.470681 -88.965345    Waupaca, Wisconsin, US  ...        4   \n",
      "84055137.0  44.113244 -89.243171   Waushara, Wisconsin, US  ...        2   \n",
      "84055139.0  44.068869 -88.644771  Winnebago, Wisconsin, US  ...       31   \n",
      "84055141.0  44.455379 -90.041583       Wood, Wisconsin, US  ...        2   \n",
      "\n",
      "            4/16/20  4/17/20  4/18/20  4/19/20  4/20/20  4/21/20  4/22/20  \\\n",
      "UID                                                                         \n",
      "84055001.0        3        4        4        4        4        4        4   \n",
      "84055003.0        2        2        2        2        2        2        2   \n",
      "84055005.0        6        6        6        6        6        6        6   \n",
      "84055007.0        3        3        3        3        3        3        3   \n",
      "84055009.0      139      180      204      215      285      314      402   \n",
      "...             ...      ...      ...      ...      ...      ...      ...   \n",
      "84055133.0      245      255      259      265      269      274      278   \n",
      "84055135.0        4        4        4        4        4        4        5   \n",
      "84055137.0        2        2        2        2        2        2        2   \n",
      "84055139.0       32       34       38       41       41       41       43   \n",
      "84055141.0        2        2        2        2        2        2        2   \n",
      "\n",
      "            4/23/20  4/24/20  \n",
      "UID                           \n",
      "84055001.0        4        4  \n",
      "84055003.0        2        2  \n",
      "84055005.0        6        6  \n",
      "84055007.0        3        3  \n",
      "84055009.0      455      605  \n",
      "...             ...      ...  \n",
      "84055133.0      280      289  \n",
      "84055135.0        6        7  \n",
      "84055137.0        2        2  \n",
      "84055139.0       46       46  \n",
      "84055141.0        2        2  \n",
      "\n",
      "[72 rows x 104 columns]\n"
     ]
    }
   ],
   "source": [
    "# get WI data using .loc on the Index col set above which is 'UID'\n",
    "# write to a dataframe\n",
    "WI_table= table.loc[84055001 : 84055141]\n",
    "print(table.loc[84055001 : 84055141])"
   ]
  },
  {
   "cell_type": "markdown",
   "metadata": {},
   "source": [
    "Lets look at what we've got so far in our WI data using pandas 'index, columns, values'"
   ]
  },
  {
   "cell_type": "code",
   "execution_count": 14,
   "metadata": {},
   "outputs": [
    {
     "name": "stdout",
     "output_type": "stream",
     "text": [
      "*************** Returds datatype and col name of our index col(primary key)\n",
      "Float64Index([84055001.0, 84055003.0, 84055005.0, 84055007.0, 84055009.0,\n",
      "              84055011.0, 84055013.0, 84055015.0, 84055017.0, 84055019.0,\n",
      "              84055021.0, 84055023.0, 84055025.0, 84055027.0, 84055029.0,\n",
      "              84055031.0, 84055033.0, 84055035.0, 84055037.0, 84055039.0,\n",
      "              84055041.0, 84055043.0, 84055045.0, 84055047.0, 84055049.0,\n",
      "              84055051.0, 84055053.0, 84055055.0, 84055057.0, 84055059.0,\n",
      "              84055061.0, 84055063.0, 84055065.0, 84055067.0, 84055069.0,\n",
      "              84055071.0, 84055073.0, 84055075.0, 84055077.0, 84055078.0,\n",
      "              84055079.0, 84055081.0, 84055083.0, 84055085.0, 84055087.0,\n",
      "              84055089.0, 84055091.0, 84055093.0, 84055095.0, 84055097.0,\n",
      "              84055099.0, 84055101.0, 84055103.0, 84055105.0, 84055107.0,\n",
      "              84055109.0, 84055111.0, 84055113.0, 84055115.0, 84055117.0,\n",
      "              84055119.0, 84055121.0, 84055123.0, 84055125.0, 84055127.0,\n",
      "              84055129.0, 84055131.0, 84055133.0, 84055135.0, 84055137.0,\n",
      "              84055139.0, 84055141.0],\n",
      "             dtype='float64', name='UID')\n",
      "***************\n",
      "Index(['iso2', 'iso3', 'code3', 'FIPS', 'Admin2', 'Province_State',\n",
      "       'Country_Region', 'Lat', 'Long_', 'Combined_Key',\n",
      "       ...\n",
      "       '4/15/20', '4/16/20', '4/17/20', '4/18/20', '4/19/20', '4/20/20',\n",
      "       '4/21/20', '4/22/20', '4/23/20', '4/24/20'],\n",
      "      dtype='object', length=104)\n",
      "***************\n",
      "[['US' 'USA' 840 ... 4 4 4]\n",
      " ['US' 'USA' 840 ... 2 2 2]\n",
      " ['US' 'USA' 840 ... 6 6 6]\n",
      " ...\n",
      " ['US' 'USA' 840 ... 2 2 2]\n",
      " ['US' 'USA' 840 ... 43 46 46]\n",
      " ['US' 'USA' 840 ... 2 2 2]]\n",
      "***************\n"
     ]
    }
   ],
   "source": [
    "print('*************** Returds datatype and col name of our index col(primary key)')\n",
    "print(WI_table.index)\n",
    "print('***************')\n",
    "print(WI_table.columns)\n",
    "print('***************')\n",
    "print(WI_table.values)\n",
    "print('***************')"
   ]
  },
  {
   "cell_type": "markdown",
   "metadata": {},
   "source": [
    "whittle down some of the columns in the WI table and get rid of some of the Rows we don't need...slice the table on the UID 1st get WI then grab eveything from 'FIPS' col to the last col to get rid of some of cols we dont need."
   ]
  },
  {
   "cell_type": "code",
   "execution_count": 5,
   "metadata": {},
   "outputs": [
    {
     "name": "stdout",
     "output_type": "stream",
     "text": [
      "               FIPS     Admin2 Province_State Country_Region        Lat  \\\n",
      "UID                                                                       \n",
      "84055001.0  55001.0      Adams      Wisconsin             US  43.969747   \n",
      "84055003.0  55003.0    Ashland      Wisconsin             US  46.319569   \n",
      "84055005.0  55005.0     Barron      Wisconsin             US  45.423727   \n",
      "84055007.0  55007.0   Bayfield      Wisconsin             US  46.528688   \n",
      "84055009.0  55009.0      Brown      Wisconsin             US  44.452655   \n",
      "...             ...        ...            ...            ...        ...   \n",
      "84055133.0  55133.0   Waukesha      Wisconsin             US  43.018331   \n",
      "84055135.0  55135.0    Waupaca      Wisconsin             US  44.470681   \n",
      "84055137.0  55137.0   Waushara      Wisconsin             US  44.113244   \n",
      "84055139.0  55139.0  Winnebago      Wisconsin             US  44.068869   \n",
      "84055141.0  55141.0       Wood      Wisconsin             US  44.455379   \n",
      "\n",
      "                Long_              Combined_Key  1/22/20  1/23/20  1/24/20  \\\n",
      "UID                                                                          \n",
      "84055001.0 -89.767828      Adams, Wisconsin, US        0        0        0   \n",
      "84055003.0 -90.678371    Ashland, Wisconsin, US        0        0        0   \n",
      "84055005.0 -91.848336     Barron, Wisconsin, US        0        0        0   \n",
      "84055007.0 -91.197167   Bayfield, Wisconsin, US        0        0        0   \n",
      "84055009.0 -88.004118      Brown, Wisconsin, US        0        0        0   \n",
      "...               ...                       ...      ...      ...      ...   \n",
      "84055133.0 -88.304312   Waukesha, Wisconsin, US        0        0        0   \n",
      "84055135.0 -88.965345    Waupaca, Wisconsin, US        0        0        0   \n",
      "84055137.0 -89.243171   Waushara, Wisconsin, US        0        0        0   \n",
      "84055139.0 -88.644771  Winnebago, Wisconsin, US        0        0        0   \n",
      "84055141.0 -90.041583       Wood, Wisconsin, US        0        0        0   \n",
      "\n",
      "            ...  4/15/20  4/16/20  4/17/20  4/18/20  4/19/20  4/20/20  \\\n",
      "UID         ...                                                         \n",
      "84055001.0  ...        3        3        4        4        4        4   \n",
      "84055003.0  ...        2        2        2        2        2        2   \n",
      "84055005.0  ...        6        6        6        6        6        6   \n",
      "84055007.0  ...        3        3        3        3        3        3   \n",
      "84055009.0  ...      114      139      180      204      215      285   \n",
      "...         ...      ...      ...      ...      ...      ...      ...   \n",
      "84055133.0  ...      238      245      255      259      265      269   \n",
      "84055135.0  ...        4        4        4        4        4        4   \n",
      "84055137.0  ...        2        2        2        2        2        2   \n",
      "84055139.0  ...       31       32       34       38       41       41   \n",
      "84055141.0  ...        2        2        2        2        2        2   \n",
      "\n",
      "            4/21/20  4/22/20  4/23/20  4/24/20  \n",
      "UID                                             \n",
      "84055001.0        4        4        4        4  \n",
      "84055003.0        2        2        2        2  \n",
      "84055005.0        6        6        6        6  \n",
      "84055007.0        3        3        3        3  \n",
      "84055009.0      314      402      455      605  \n",
      "...             ...      ...      ...      ...  \n",
      "84055133.0      274      278      280      289  \n",
      "84055135.0        4        5        6        7  \n",
      "84055137.0        2        2        2        2  \n",
      "84055139.0       41       43       46       46  \n",
      "84055141.0        2        2        2        2  \n",
      "\n",
      "[72 rows x 101 columns]\n"
     ]
    }
   ],
   "source": [
    "WI_data = WI_table.loc[84055001 : 84055141, 'FIPS':]\n",
    "print(WI_table.loc[84055001 : 84055141, 'FIPS':])"
   ]
  },
  {
   "cell_type": "markdown",
   "metadata": {},
   "source": [
    "location is the mean of every lat and long point to centre the map (stole this from something else but i like it to center map)"
   ]
  },
  {
   "cell_type": "code",
   "execution_count": 6,
   "metadata": {},
   "outputs": [],
   "source": [
    "location = WI_data['Lat'].mean(), WI_data['Long_'].mean()"
   ]
  },
  {
   "cell_type": "markdown",
   "metadata": {},
   "source": [
    "Using folium,a basemap is then created using the location to centre on and the zoom level to start."
   ]
  },
  {
   "cell_type": "code",
   "execution_count": 7,
   "metadata": {},
   "outputs": [],
   "source": [
    "m = folium.Map(location=location,zoom_start=6)"
   ]
  },
  {
   "cell_type": "markdown",
   "metadata": {},
   "source": [
    "Each location in the DataFrame is then added as a marker to the basemap points are then added to the map"
   ]
  },
  {
   "cell_type": "code",
   "execution_count": 8,
   "metadata": {},
   "outputs": [],
   "source": [
    "for i in range(0,len(WI_data)):\n",
    "    folium.Marker([WI_data['Lat'].iloc[i],WI_data['Long_'].iloc[i]]).add_to(m)"
   ]
  },
  {
   "cell_type": "markdown",
   "metadata": {
    "scrolled": true
   },
   "source": [
    "to call the map and open it in the next cell below the current active cell, simply type 'm' and hit run"
   ]
  },
  {
   "cell_type": "code",
   "execution_count": 9,
   "metadata": {},
   "outputs": [
    {
     "data": {
      "text/html": [
       "<div style=\"width:100%;\"><div style=\"position:relative;width:100%;height:0;padding-bottom:60%;\"><iframe src=\"about:blank\" style=\"position:absolute;width:100%;height:100%;left:0;top:0;border:none !important;\" data-html=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 onload=\"this.contentDocument.open();this.contentDocument.write(atob(this.getAttribute('data-html')));this.contentDocument.close();\" allowfullscreen webkitallowfullscreen mozallowfullscreen></iframe></div></div>"
      ],
      "text/plain": [
       "<folium.folium.Map at 0x1ed408469e8>"
      ]
     },
     "execution_count": 9,
     "metadata": {},
     "output_type": "execute_result"
    }
   ],
   "source": [
    "m"
   ]
  },
  {
   "cell_type": "code",
   "execution_count": null,
   "metadata": {},
   "outputs": [],
   "source": []
  }
 ],
 "metadata": {
  "kernelspec": {
   "display_name": "Python 3",
   "language": "python",
   "name": "python3"
  },
  "language_info": {
   "codemirror_mode": {
    "name": "ipython",
    "version": 3
   },
   "file_extension": ".py",
   "mimetype": "text/x-python",
   "name": "python",
   "nbconvert_exporter": "python",
   "pygments_lexer": "ipython3",
   "version": "3.6.8"
  }
 },
 "nbformat": 4,
 "nbformat_minor": 4
}
