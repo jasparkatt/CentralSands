{
 "cells": [
  {
   "cell_type": "markdown",
   "metadata": {},
   "source": [
    "# usual imports\n"
   ]
  },
  {
   "cell_type": "code",
   "execution_count": null,
   "metadata": {},
   "outputs": [],
   "source": [
    "\n",
    "import os\n",
    "import sys\n",
    "import json\n",
    "import folium\n",
    "import pandas as pd\n",
    "import branca.colormap as cm # for colormap work...not called yet\n",
    "import webbrowser\n",
    "import jenkspy\n"
   ]
  },
  {
   "cell_type": "markdown",
   "metadata": {},
   "source": [
    "\n",
    "# lets see what versions we are working with...folium is dropping 2.7 support soon\n"
   ]
  },
  {
   "cell_type": "code",
   "execution_count": null,
   "metadata": {},
   "outputs": [],
   "source": [
    "\n",
    "print(\"Python version is %s.%s.%s\" % sys.version_info[:3])\n",
    "print(\"folium version is\" + \" \" + folium.__version__)\n"
   ]
  },
  {
   "cell_type": "markdown",
   "metadata": {},
   "source": [
    "\n",
    "# bring in the data and geographies\n"
   ]
  },
  {
   "cell_type": "code",
   "execution_count": null,
   "metadata": {},
   "outputs": [],
   "source": [
    "\n",
    "tables_src = 'ACS_17_5YR_S0101_DependencyRatios_NoDescription.csv'\n",
    "geo_src = 'CENTRAL_SANDS_TRACTS.json'\n",
    "table = pd.read_csv(tables_src)\n",
    "tracts = json.load(open(geo_src))\n"
   ]
  },
  {
   "cell_type": "markdown",
   "metadata": {},
   "source": [
    "\n",
    "# lets see what the coloumn of interest looks like\n"
   ]
  },
  {
   "cell_type": "code",
   "execution_count": null,
   "metadata": {},
   "outputs": [],
   "source": [
    "\n",
    "ratio_dict = table.set_index('GEOID')['HC01_EST_VC40'].sort_values(ascending=True)\n",
    "print(ratio_dict)\n"
   ]
  },
  {
   "cell_type": "markdown",
   "metadata": {},
   "source": [
    "\n",
    "# use jenkspy to get our class break points\n"
   ]
  },
  {
   "cell_type": "code",
   "execution_count": null,
   "metadata": {},
   "outputs": [],
   "source": [
    "\n",
    "datasrc = table['HC01_EST_VC40'].dropna(how='any').sort_values(ascending=True)\n",
    "breaks = jenkspy.jenks_breaks(datasrc, nb_class=8)\n",
    "print(breaks)\n"
   ]
  },
  {
   "cell_type": "markdown",
   "metadata": {},
   "source": [
    "\n",
    "# create our folium map\n"
   ]
  },
  {
   "cell_type": "code",
   "execution_count": null,
   "metadata": {},
   "outputs": [],
   "source": [
    "\n",
    "m = folium.Map(\n",
    "    tiles='CartoDB positron',\n",
    "    zoom_start=8.5,\n",
    "    control_scale=True,\n",
    "    attr='CSR Productions'\n",
    ")\n"
   ]
  },
  {
   "cell_type": "markdown",
   "metadata": {},
   "source": [
    "\n",
    "# fix the position on opening to Central Wisconsin tracts BB\n"
   ]
  },
  {
   "cell_type": "code",
   "execution_count": null,
   "metadata": {},
   "outputs": [],
   "source": [
    "\n",
    "m.fit_bounds([[45.120608,-90.318032],[43.641046,-88.605033]])\n"
   ]
  },
  {
   "cell_type": "markdown",
   "metadata": {},
   "source": [
    "\n",
    "# create the choropleth by joining our data coloumn to geography\n"
   ]
  },
  {
   "cell_type": "code",
   "execution_count": null,
   "metadata": {},
   "outputs": [],
   "source": [
    "\n",
    "folium.Choropleth(\n",
    "    geo_data=tracts,\n",
    "    data=table,\n",
    "    name='Where dem old folks at?',\n",
    "    columns=['GEOID2', 'HC01_EST_VC40'],\n",
    "    key_on='feature.properties.GEO_Join',\n",
    "    fill_color='YlOrRd',\n",
    "    fill_opacity=0.70,\n",
    "    bins=[9.6, 17.8, 27.5, 34.1, 42.9, 50.2, 65.4, 89.5, 106.8],\n",
    "    highlight=True,\n",
    "    legend_name='Old Age Dependency Ratio, 2013-2017',\n",
    "    show=False\n",
    ").add_to(m)\n"
   ]
  },
  {
   "cell_type": "markdown",
   "metadata": {},
   "source": [
    "\n",
    "# add our control\n"
   ]
  },
  {
   "cell_type": "code",
   "execution_count": null,
   "metadata": {},
   "outputs": [],
   "source": [
    "\n",
    "folium.LayerControl().add_to(m)\n"
   ]
  },
  {
   "cell_type": "markdown",
   "metadata": {},
   "source": [
    "\n",
    "# open in notebook\n"
   ]
  },
  {
   "cell_type": "code",
   "execution_count": null,
   "metadata": {},
   "outputs": [],
   "source": [
    "\n",
    "m\n"
   ]
  },
  {
   "cell_type": "code",
   "execution_count": null,
   "metadata": {},
   "outputs": [],
   "source": []
  }
 ],
 "metadata": {
  "language": "python"
 },
 "nbformat": 4,
 "nbformat_minor": 2
}
